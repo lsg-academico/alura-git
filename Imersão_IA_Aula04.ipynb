{
  "nbformat": 4,
  "nbformat_minor": 0,
  "metadata": {
    "colab": {
      "provenance": [],
      "authorship_tag": "ABX9TyP3bh0oYU/CMbFQrTiJ68/d",
      "include_colab_link": true
    },
    "kernelspec": {
      "name": "python3",
      "display_name": "Python 3"
    },
    "language_info": {
      "name": "python"
    }
  },
  "cells": [
    {
      "cell_type": "markdown",
      "metadata": {
        "id": "view-in-github",
        "colab_type": "text"
      },
      "source": [
        "<a href=\"https://colab.research.google.com/github/lsg-academico/alura-git/blob/master/Imers%C3%A3o_IA_Aula04.ipynb\" target=\"_parent\"><img src=\"https://colab.research.google.com/assets/colab-badge.svg\" alt=\"Open In Colab\"/></a>"
      ]
    },
    {
      "cell_type": "code",
      "execution_count": 34,
      "metadata": {
        "colab": {
          "base_uri": "https://localhost:8080/"
        },
        "id": "J-lXXF65GMVM",
        "outputId": "27828b4c-95c6-418f-af71-d94a75713f0e"
      },
      "outputs": [
        {
          "output_type": "stream",
          "name": "stdout",
          "text": [
            "Requirement already satisfied: google-genai in /usr/local/lib/python3.11/dist-packages (1.15.0)\n",
            "Requirement already satisfied: anyio<5.0.0,>=4.8.0 in /usr/local/lib/python3.11/dist-packages (from google-genai) (4.9.0)\n",
            "Requirement already satisfied: google-auth<3.0.0,>=2.14.1 in /usr/local/lib/python3.11/dist-packages (from google-genai) (2.38.0)\n",
            "Requirement already satisfied: httpx<1.0.0,>=0.28.1 in /usr/local/lib/python3.11/dist-packages (from google-genai) (0.28.1)\n",
            "Requirement already satisfied: pydantic<3.0.0,>=2.0.0 in /usr/local/lib/python3.11/dist-packages (from google-genai) (2.11.4)\n",
            "Requirement already satisfied: requests<3.0.0,>=2.28.1 in /usr/local/lib/python3.11/dist-packages (from google-genai) (2.32.3)\n",
            "Requirement already satisfied: websockets<15.1.0,>=13.0.0 in /usr/local/lib/python3.11/dist-packages (from google-genai) (15.0.1)\n",
            "Requirement already satisfied: typing-extensions<5.0.0,>=4.11.0 in /usr/local/lib/python3.11/dist-packages (from google-genai) (4.13.2)\n",
            "Requirement already satisfied: idna>=2.8 in /usr/local/lib/python3.11/dist-packages (from anyio<5.0.0,>=4.8.0->google-genai) (3.10)\n",
            "Requirement already satisfied: sniffio>=1.1 in /usr/local/lib/python3.11/dist-packages (from anyio<5.0.0,>=4.8.0->google-genai) (1.3.1)\n",
            "Requirement already satisfied: cachetools<6.0,>=2.0.0 in /usr/local/lib/python3.11/dist-packages (from google-auth<3.0.0,>=2.14.1->google-genai) (5.5.2)\n",
            "Requirement already satisfied: pyasn1-modules>=0.2.1 in /usr/local/lib/python3.11/dist-packages (from google-auth<3.0.0,>=2.14.1->google-genai) (0.4.2)\n",
            "Requirement already satisfied: rsa<5,>=3.1.4 in /usr/local/lib/python3.11/dist-packages (from google-auth<3.0.0,>=2.14.1->google-genai) (4.9.1)\n",
            "Requirement already satisfied: certifi in /usr/local/lib/python3.11/dist-packages (from httpx<1.0.0,>=0.28.1->google-genai) (2025.4.26)\n",
            "Requirement already satisfied: httpcore==1.* in /usr/local/lib/python3.11/dist-packages (from httpx<1.0.0,>=0.28.1->google-genai) (1.0.9)\n",
            "Requirement already satisfied: h11>=0.16 in /usr/local/lib/python3.11/dist-packages (from httpcore==1.*->httpx<1.0.0,>=0.28.1->google-genai) (0.16.0)\n",
            "Requirement already satisfied: annotated-types>=0.6.0 in /usr/local/lib/python3.11/dist-packages (from pydantic<3.0.0,>=2.0.0->google-genai) (0.7.0)\n",
            "Requirement already satisfied: pydantic-core==2.33.2 in /usr/local/lib/python3.11/dist-packages (from pydantic<3.0.0,>=2.0.0->google-genai) (2.33.2)\n",
            "Requirement already satisfied: typing-inspection>=0.4.0 in /usr/local/lib/python3.11/dist-packages (from pydantic<3.0.0,>=2.0.0->google-genai) (0.4.0)\n",
            "Requirement already satisfied: charset-normalizer<4,>=2 in /usr/local/lib/python3.11/dist-packages (from requests<3.0.0,>=2.28.1->google-genai) (3.4.2)\n",
            "Requirement already satisfied: urllib3<3,>=1.21.1 in /usr/local/lib/python3.11/dist-packages (from requests<3.0.0,>=2.28.1->google-genai) (2.4.0)\n",
            "Requirement already satisfied: pyasn1<0.7.0,>=0.6.1 in /usr/local/lib/python3.11/dist-packages (from pyasn1-modules>=0.2.1->google-auth<3.0.0,>=2.14.1->google-genai) (0.6.1)\n"
          ]
        }
      ],
      "source": [
        "!pip install google-genai"
      ]
    },
    {
      "cell_type": "code",
      "source": [
        "import os\n",
        "\n",
        "from google.colab import userdata\n",
        "\n",
        "os.environ['GOOGLE_API_KEY']=userdata.get('GOOGLE_API_KEY')"
      ],
      "metadata": {
        "id": "9Y75Trk8G31-"
      },
      "execution_count": 35,
      "outputs": []
    },
    {
      "cell_type": "code",
      "source": [
        "from google import genai\n",
        "\n",
        "client = genai.Client()"
      ],
      "metadata": {
        "id": "S2E_ySlCHvR0"
      },
      "execution_count": 36,
      "outputs": []
    },
    {
      "cell_type": "code",
      "source": [
        "for model in client.models.list():\n",
        "  print(model.name)"
      ],
      "metadata": {
        "colab": {
          "base_uri": "https://localhost:8080/"
        },
        "id": "828zZHTtIP7D",
        "outputId": "27408f62-fd8f-4148-fc76-e1ca2e626ba4"
      },
      "execution_count": 37,
      "outputs": [
        {
          "output_type": "stream",
          "name": "stdout",
          "text": [
            "models/chat-bison-001\n",
            "models/text-bison-001\n",
            "models/embedding-gecko-001\n",
            "models/gemini-1.0-pro-vision-latest\n",
            "models/gemini-pro-vision\n",
            "models/gemini-1.5-pro-latest\n",
            "models/gemini-1.5-pro-001\n",
            "models/gemini-1.5-pro-002\n",
            "models/gemini-1.5-pro\n",
            "models/gemini-1.5-flash-latest\n",
            "models/gemini-1.5-flash-001\n",
            "models/gemini-1.5-flash-001-tuning\n",
            "models/gemini-1.5-flash\n",
            "models/gemini-1.5-flash-002\n",
            "models/gemini-1.5-flash-8b\n",
            "models/gemini-1.5-flash-8b-001\n",
            "models/gemini-1.5-flash-8b-latest\n",
            "models/gemini-1.5-flash-8b-exp-0827\n",
            "models/gemini-1.5-flash-8b-exp-0924\n",
            "models/gemini-2.5-pro-exp-03-25\n",
            "models/gemini-2.5-pro-preview-03-25\n",
            "models/gemini-2.5-flash-preview-04-17\n",
            "models/gemini-2.5-flash-preview-04-17-thinking\n",
            "models/gemini-2.5-pro-preview-05-06\n",
            "models/gemini-2.0-flash-exp\n",
            "models/gemini-2.0-flash\n",
            "models/gemini-2.0-flash-001\n",
            "models/gemini-2.0-flash-exp-image-generation\n",
            "models/gemini-2.0-flash-lite-001\n",
            "models/gemini-2.0-flash-lite\n",
            "models/gemini-2.0-flash-preview-image-generation\n",
            "models/gemini-2.0-flash-lite-preview-02-05\n",
            "models/gemini-2.0-flash-lite-preview\n",
            "models/gemini-2.0-pro-exp\n",
            "models/gemini-2.0-pro-exp-02-05\n",
            "models/gemini-exp-1206\n",
            "models/gemini-2.0-flash-thinking-exp-01-21\n",
            "models/gemini-2.0-flash-thinking-exp\n",
            "models/gemini-2.0-flash-thinking-exp-1219\n",
            "models/learnlm-2.0-flash-experimental\n",
            "models/gemma-3-1b-it\n",
            "models/gemma-3-4b-it\n",
            "models/gemma-3-12b-it\n",
            "models/gemma-3-27b-it\n",
            "models/embedding-001\n",
            "models/text-embedding-004\n",
            "models/gemini-embedding-exp-03-07\n",
            "models/gemini-embedding-exp\n",
            "models/aqa\n",
            "models/imagen-3.0-generate-002\n",
            "models/gemini-2.0-flash-live-001\n"
          ]
        }
      ]
    },
    {
      "cell_type": "code",
      "source": [
        "modelo = 'gemini-2.0-flash'\n",
        "\n",
        "resposta = client.models.generate_content(model=modelo, contents='quem é a empresa por trás dos modelos gemini?')"
      ],
      "metadata": {
        "id": "42vKmnRhId0s"
      },
      "execution_count": 38,
      "outputs": []
    },
    {
      "cell_type": "code",
      "source": [
        "resposta.text"
      ],
      "metadata": {
        "colab": {
          "base_uri": "https://localhost:8080/",
          "height": 35
        },
        "id": "npfYo-S-I_wM",
        "outputId": "02e78e14-3f87-4273-a5fb-451c00191c1c"
      },
      "execution_count": 39,
      "outputs": [
        {
          "output_type": "execute_result",
          "data": {
            "text/plain": [
              "'A empresa por trás dos modelos Gemini é o **Google**.\\n'"
            ],
            "application/vnd.google.colaboratory.intrinsic+json": {
              "type": "string"
            }
          },
          "metadata": {},
          "execution_count": 39
        }
      ]
    },
    {
      "cell_type": "code",
      "source": [
        "chat = client.chats.create(model=modelo)\n",
        "resposta = chat.send_message(\"Oi, tudo bem?\")\n",
        "resposta.text"
      ],
      "metadata": {
        "colab": {
          "base_uri": "https://localhost:8080/",
          "height": 35
        },
        "id": "jWnjG315KXmy",
        "outputId": "9c6a45c6-8a55-4f35-9611-388bb7120e69"
      },
      "execution_count": 40,
      "outputs": [
        {
          "output_type": "execute_result",
          "data": {
            "text/plain": [
              "'Tudo bem por aqui! 😊 Como posso te ajudar hoje?\\n'"
            ],
            "application/vnd.google.colaboratory.intrinsic+json": {
              "type": "string"
            }
          },
          "metadata": {},
          "execution_count": 40
        }
      ]
    },
    {
      "cell_type": "code",
      "source": [
        "chat = client.chats.create(model=modelo)\n",
        "resposta = chat.send_message(\"O que é inteligência artificial?\")\n",
        "resposta.text"
      ],
      "metadata": {
        "colab": {
          "base_uri": "https://localhost:8080/",
          "height": 140
        },
        "id": "-sni5jL_Ksgb",
        "outputId": "1be955ce-9bc1-486d-e730-409a259c6268"
      },
      "execution_count": 41,
      "outputs": [
        {
          "output_type": "execute_result",
          "data": {
            "text/plain": [
              "'Inteligência Artificial (IA) é um campo da ciência da computação que se dedica a criar sistemas e máquinas capazes de simular a inteligência humana. Isso envolve a capacidade de aprender, raciocinar, resolver problemas, perceber o ambiente, entender a linguagem natural e tomar decisões.\\n\\nEm termos mais simples, a IA busca fazer com que computadores \"pensem\" e ajam de forma inteligente, como os humanos fariam.\\n\\n**Principais áreas de estudo e aplicação da IA:**\\n\\n*   **Aprendizado de Máquina (Machine Learning):** Algoritmos que permitem que os computadores aprendam com dados sem serem explicitamente programados.\\n*   **Redes Neurais Artificiais:** Modelos computacionais inspirados no cérebro humano, usados para reconhecimento de padrões, classificação e previsão.\\n*   **Processamento de Linguagem Natural (PNL):** Capacidade de entender, interpretar e gerar linguagem humana.\\n*   **Visão Computacional:** Permite que os computadores \"vejam\" e interpretem imagens e vídeos.\\n*   **Robótica:** Desenvolvimento de robôs capazes de realizar tarefas complexas e interagir com o ambiente.\\n*   **Sistemas Especialistas:** Programas que simulam o raciocínio de um especialista em uma área específica.\\n\\n**Tipos de Inteligência Artificial:**\\n\\n*   **IA Fraca (ou IA Estreita):** Projetada para realizar uma tarefa específica, como jogar xadrez ou reconhecer rostos. A maioria das aplicações de IA atuais se encaixam nessa categoria.\\n*   **IA Forte (ou IA Geral):** Possui a capacidade de entender, aprender e aplicar seu conhecimento em qualquer tarefa que um ser humano possa fazer. Essa é uma IA mais teórica e ainda não foi totalmente alcançada.\\n*   **Superinteligência:** Uma IA que excede a inteligência humana em todos os aspectos, incluindo criatividade, resolução de problemas e conhecimento geral. Essa é uma área de especulação e debate.\\n\\n**Aplicações da Inteligência Artificial:**\\n\\nA IA está presente em diversas áreas, incluindo:\\n\\n*   **Saúde:** Diagnóstico médico, descoberta de medicamentos, atendimento ao paciente.\\n*   **Finanças:** Detecção de fraudes, análise de risco, negociação automatizada.\\n*   **Transporte:** Carros autônomos, otimização de rotas, gerenciamento de tráfego.\\n*   **Varejo:** Recomendação de produtos, atendimento ao cliente, análise de mercado.\\n*   **Manufatura:** Automação de processos, controle de qualidade, manutenção preditiva.\\n*   **Entretenimento:** Jogos, filmes, música.\\n*   **Educação:** Tutoria personalizada, avaliação automatizada, criação de conteúdo.\\n\\n**Em resumo:**\\n\\nA Inteligência Artificial é um campo em constante evolução que busca replicar a inteligência humana em máquinas. Ela tem o potencial de transformar diversos aspectos de nossas vidas, desde a forma como trabalhamos até como nos divertimos e cuidamos da nossa saúde.\\n\\nÉ importante notar que a IA levanta questões éticas importantes, como viés algorítmico, privacidade de dados e o impacto no mercado de trabalho. Por isso, é fundamental que o desenvolvimento e a implementação da IA sejam feitos de forma responsável e transparente.'"
            ],
            "application/vnd.google.colaboratory.intrinsic+json": {
              "type": "string"
            }
          },
          "metadata": {},
          "execution_count": 41
        }
      ]
    },
    {
      "cell_type": "code",
      "source": [
        "chat = client.chats.create(model=modelo)\n",
        "resposta = chat.send_message(\"Você é um assistente pessoal e você sempre responde de maneira sucinta\")\n",
        "resposta.text"
      ],
      "metadata": {
        "colab": {
          "base_uri": "https://localhost:8080/",
          "height": 35
        },
        "id": "f9LlYfMPK0Wd",
        "outputId": "86b8389e-9107-40f3-c076-79900103a0c7"
      },
      "execution_count": 42,
      "outputs": [
        {
          "output_type": "execute_result",
          "data": {
            "text/plain": [
              "'Entendido. Em que posso ajudar?\\n'"
            ],
            "application/vnd.google.colaboratory.intrinsic+json": {
              "type": "string"
            }
          },
          "metadata": {},
          "execution_count": 42
        }
      ]
    },
    {
      "cell_type": "code",
      "source": [
        "from google.genai import types\n",
        "\n",
        "chat_config = types.GenerateContentConfig(\n",
        "    system_instruction = \"Você é um assistente pessoal e você sempre responde de maneira sucinta\",\n",
        ")\n",
        "\n",
        "chat = client.chats.create(model=modelo,config=chat_config)"
      ],
      "metadata": {
        "id": "C78NEm3hLH_6"
      },
      "execution_count": 43,
      "outputs": []
    },
    {
      "cell_type": "code",
      "source": [
        "resposta = client.models.generate_content(model=modelo, contents='O que é computação quantica?')\n",
        "resposta.text"
      ],
      "metadata": {
        "colab": {
          "base_uri": "https://localhost:8080/",
          "height": 140
        },
        "id": "CbxwKH5RSQQN",
        "outputId": "18a1747c-b2b2-4e12-9658-4732765f1e68"
      },
      "execution_count": 44,
      "outputs": [
        {
          "output_type": "execute_result",
          "data": {
            "text/plain": [
              "'A computação quântica é um paradigma computacional que explora os princípios da mecânica quântica para resolver problemas complexos que são intratáveis para os computadores clássicos. Em vez de usar bits que representam 0 ou 1, os computadores quânticos usam qubits, que podem representar 0, 1 ou uma combinação de ambos simultaneamente, graças a fenômenos como a superposição e o entrelaçamento.\\n\\n**Principais Conceitos:**\\n\\n*   **Qubit (Bit Quântico):** A unidade básica de informação em um computador quântico. Diferentemente de um bit clássico, que pode ser 0 ou 1, um qubit pode estar em um estado de superposição, representando 0, 1 ou uma combinação linear de ambos. Matematicamente, um qubit é representado por:\\n    \\n    ```\\n    |ψ⟩ = α|0⟩ + β|1⟩\\n    ```\\n    \\n    Onde |0⟩ e |1⟩ são os estados base, e α e β são números complexos que satisfazem |α|² + |β|² = 1. A probabilidade de medir o qubit no estado |0⟩ é |α|², e a probabilidade de medir no estado |1⟩ é |β|².\\n    \\n*   **Superposição:** A capacidade de um qubit de existir em múltiplos estados simultaneamente. Isso permite que os computadores quânticos explorem múltiplas possibilidades ao mesmo tempo, aumentando seu poder computacional para certos problemas.\\n    \\n*   **Entrelaçamento Quântico:** Um fenômeno onde dois ou mais qubits se tornam interligados de tal forma que o estado de um afeta instantaneamente o estado do outro, independentemente da distância entre eles. O entrelaçamento permite a criação de correlações complexas entre qubits, o que é fundamental para algoritmos quânticos.\\n    \\n*   **Portas Quânticas:** Operações que manipulam o estado dos qubits. Assim como os computadores clássicos usam portas lógicas (AND, OR, NOT), os computadores quânticos usam portas quânticas (Hadamard, Pauli-X, CNOT) para realizar cálculos.\\n    \\n\\n**Vantagens Potenciais:**\\n\\n*   **Resolução de Problemas Complexos:** A computação quântica tem o potencial de resolver problemas que são exponencialmente difíceis para os computadores clássicos, como:\\n    \\n    *   **Otimização:** Encontrar a melhor solução para problemas complexos de otimização, como logística, finanças e planejamento.\\n    *   **Simulação Molecular:** Simular o comportamento de moléculas e materiais com alta precisão, o que pode levar a descobertas em áreas como medicina, ciência dos materiais e química.\\n    *   **Criptografia:** Quebrar algoritmos de criptografia atuais e desenvolver novos métodos de criptografia mais seguros.\\n    *   **Aprendizado de Máquina:** Acelerar algoritmos de aprendizado de máquina e melhorar a capacidade de reconhecimento de padrões.\\n*   **Velocidade:** Para certos tipos de problemas, os computadores quânticos podem ser significativamente mais rápidos do que os computadores clássicos.\\n    \\n\\n**Desafios:**\\n\\n*   **Correção de Erros:** Qubits são extremamente sensíveis a perturbações do ambiente, o que pode levar a erros de cálculo. A correção de erros quânticos é um grande desafio na construção de computadores quânticos práticos.\\n*   **Escalabilidade:** Aumentar o número de qubits em um computador quântico mantendo a sua coerência e controlabilidade é um desafio técnico complexo.\\n*   **Desenvolvimento de Algoritmos:** É necessário desenvolver novos algoritmos quânticos que aproveitem ao máximo o poder da computação quântica.\\n*   **Custos:** A construção e manutenção de computadores quânticos são extremamente caras.\\n    \\n\\n**Aplicações:**\\n\\n*   **Medicina e Farmácia:** Desenvolvimento de novos medicamentos e terapias personalizadas.\\n*   **Ciência dos Materiais:** Descoberta de novos materiais com propriedades únicas.\\n*   **Finanças:** Otimização de portfólios de investimento e detecção de fraudes.\\n*   **Criptografia:** Desenvolvimento de novos métodos de criptografia quântica.\\n*   **Inteligência Artificial:** Melhoria de algoritmos de aprendizado de máquina.\\n\\n**Em resumo, a computação quântica é uma área emergente com o potencial de revolucionar a forma como resolvemos problemas complexos. Embora ainda existam desafios significativos a serem superados, os avanços recentes na área têm sido promissores, e a computação quântica pode se tornar uma ferramenta poderosa em diversos campos no futuro.**\\n'"
            ],
            "application/vnd.google.colaboratory.intrinsic+json": {
              "type": "string"
            }
          },
          "metadata": {},
          "execution_count": 44
        }
      ]
    },
    {
      "cell_type": "code",
      "source": [
        "chat.get_history()"
      ],
      "metadata": {
        "colab": {
          "base_uri": "https://localhost:8080/"
        },
        "id": "9rktWH-dSsdt",
        "outputId": "f82c37f0-6c94-4f44-e77c-7ad83d052d9c"
      },
      "execution_count": 45,
      "outputs": [
        {
          "output_type": "execute_result",
          "data": {
            "text/plain": [
              "[]"
            ]
          },
          "metadata": {},
          "execution_count": 45
        }
      ]
    },
    {
      "cell_type": "code",
      "source": [
        "prompt = input(\"Esperando Prompt: \")\n",
        "\n",
        "while prompt != \"fim\":\n",
        "  resposta = chat.send_message(prompt)\n",
        "  print(\"\\n\")\n",
        "  print(\"Resposta \",resposta.text)\n",
        "  prompt = input(\"Esperando Prompt: \")\n"
      ],
      "metadata": {
        "colab": {
          "base_uri": "https://localhost:8080/"
        },
        "id": "n7feoxMcS74l",
        "outputId": "59ffbcde-cd51-4e1d-febd-e320a828becd"
      },
      "execution_count": null,
      "outputs": [
        {
          "output_type": "stream",
          "name": "stdout",
          "text": [
            "Esperando Prompt: quem foi senna\n",
            "\n",
            "\n",
            "Resposta  Ayrton Senna foi um piloto de Fórmula 1 brasileiro, considerado um dos maiores de todos os tempos.\n",
            "\n"
          ]
        }
      ]
    }
  ]
}